{
 "cells": [
  {
   "cell_type": "markdown",
   "metadata": {
    "id": "w2fsEM_U-_OV"
   },
   "source": [
    "# CS549 Machine Learning \n",
    "# Assignment 3: Support vector machine (SVM) model\n",
    "\n",
    "### Total: 10 points\n",
    "\n",
    "In this assignment, we will build a \"toy\" SVM model using a mini dataset step by step.\n",
    "\n",
    "Your goal is to run all the cells below one by one from top to bottom. Before you run some task cells, you need to complete the missing lines (notified by \"= None\" in Python) in them. \n",
    "\n",
    "For each **task** cell that requires your completion, you can run the **evaluation** cell right after it to check if your answer correct.\n",
    "The output of the evaluation cell should be the same as the \"expected output\" provided. (Some mismatch in the last digit of floating numbers is tolerable)\n",
    "\n",
    "---\n",
    "# Install dependencies\n",
    "\n",
    "**quadprog** is a Python package for solving quadratic programming problems. You can install it using the following command:\n",
    "```\n",
    "pip install quadprog\n",
    "```\n",
    "Note: Windows users may need to install Visual C++ 14 first (https://visualstudio.microsoft.com/visual-cpp-build-tools/)."
   ]
  },
  {
   "cell_type": "code",
   "execution_count": 2,
   "metadata": {
    "colab": {
     "base_uri": "https://localhost:8080/"
    },
    "id": "aj2m-LR0_i6s",
    "outputId": "f432ce1b-df58-4634-b483-824dcc9575a4"
   },
   "outputs": [
    {
     "name": "stdout",
     "output_type": "stream",
     "text": [
      "Collecting quadprog\n",
      "  Downloading quadprog-0.1.9.tar.gz (131 kB)\n",
      "\u001b[?25l\r",
      "\u001b[K     |██▌                             | 10 kB 19.9 MB/s eta 0:00:01\r",
      "\u001b[K     |█████                           | 20 kB 26.1 MB/s eta 0:00:01\r",
      "\u001b[K     |███████▌                        | 30 kB 21.4 MB/s eta 0:00:01\r",
      "\u001b[K     |██████████                      | 40 kB 17.0 MB/s eta 0:00:01\r",
      "\u001b[K     |████████████▍                   | 51 kB 5.8 MB/s eta 0:00:01\r",
      "\u001b[K     |███████████████                 | 61 kB 6.1 MB/s eta 0:00:01\r",
      "\u001b[K     |█████████████████▍              | 71 kB 5.5 MB/s eta 0:00:01\r",
      "\u001b[K     |████████████████████            | 81 kB 6.2 MB/s eta 0:00:01\r",
      "\u001b[K     |██████████████████████▍         | 92 kB 6.5 MB/s eta 0:00:01\r",
      "\u001b[K     |████████████████████████▉       | 102 kB 5.4 MB/s eta 0:00:01\r",
      "\u001b[K     |███████████████████████████▍    | 112 kB 5.4 MB/s eta 0:00:01\r",
      "\u001b[K     |█████████████████████████████▉  | 122 kB 5.4 MB/s eta 0:00:01\r",
      "\u001b[K     |████████████████████████████████| 131 kB 5.4 MB/s \n",
      "\u001b[?25h  Installing build dependencies ... \u001b[?25l\u001b[?25hdone\n",
      "  Getting requirements to build wheel ... \u001b[?25l\u001b[?25hdone\n",
      "    Preparing wheel metadata ... \u001b[?25l\u001b[?25hdone\n",
      "Requirement already satisfied: numpy in /usr/local/lib/python3.7/dist-packages (from quadprog) (1.19.5)\n",
      "Building wheels for collected packages: quadprog\n",
      "  Building wheel for quadprog (PEP 517) ... \u001b[?25l\u001b[?25hdone\n",
      "  Created wheel for quadprog: filename=quadprog-0.1.9-cp37-cp37m-linux_x86_64.whl size=301657 sha256=d6a558a6a2a0c716869dcaa18d76bacfb1bae661da2453a8fb29a6e8898f5ecb\n",
      "  Stored in directory: /root/.cache/pip/wheels/69/38/c4/c986155f8609484c560a1f40cedc012ec26b6d94a14ae2aab3\n",
      "Successfully built quadprog\n",
      "Installing collected packages: quadprog\n",
      "Successfully installed quadprog-0.1.9\n"
     ]
    }
   ],
   "source": [
    "!pip install quadprog"
   ]
  },
  {
   "cell_type": "code",
   "execution_count": 3,
   "metadata": {
    "id": "w_o2LUS8-_Os"
   },
   "outputs": [],
   "source": [
    "import quadprog\n",
    "import numpy as np\n",
    "\n",
    "\n",
    "# The helper function. Dot not change it\n",
    "def quadprog_solve_qp(P, q, G=None, h=None, A=None, b=None):\n",
    "    qp_G = .5 * (P + P.T)   # make sure P is symmetric\n",
    "    qp_a = -q\n",
    "    if A is not None:\n",
    "        qp_C = -np.vstack([A, G]).T\n",
    "        qp_b = -np.hstack([b, h])\n",
    "        meq = A.shape[0]\n",
    "    else:  # no equality constraint\n",
    "        qp_C = -G.T\n",
    "        qp_b = -h\n",
    "        meq = 0\n",
    "    return quadprog.solve_qp(qp_G, qp_a, qp_C, qp_b, meq)[0]\n",
    "\n",
    "# Toy data\n",
    "X = np.array([\n",
    "    [0, 0],\n",
    "    [2, 0],\n",
    "    [0, 2],\n",
    "    [3, 3],\n",
    "    [4, 4]\n",
    "])\n",
    "Y = np.array([-1, -1, -1, 1, 1])"
   ]
  },
  {
   "cell_type": "markdown",
   "metadata": {
    "id": "bq0BRURc-_Oz"
   },
   "source": [
    "---\n",
    "\n",
    "# Task\n",
    "We want to build an SVM model on the toy dataset: \n",
    "\n",
    "\\begin{equation}\n",
    "    x^{(1)} = (0,0),\\ y^{(1)}=-1\\\\\n",
    "    x^{(2)} = (2,0),\\ y^{(2)}=-1\\\\\n",
    "    x^{(3)} = (0,2),\\ y^{(3)}=-1\\\\\n",
    "    x^{(4)} = (3,3),\\ y^{(4)}=1\\\\\n",
    "    x^{(5)} = (4,4),\\ y^{(5)}=1\\\\\n",
    "\\end{equation}\n",
    "\n",
    "We need to solve the quadratic programming (QP) problem as the following form:\n",
    "\n",
    "\\begin{equation}\n",
    "    \\min_{\\alpha}\\big( \\frac{1}{2}\\alpha^{T}Q\\alpha - (\\textbf{1})^{T}\\alpha \\big) \\\\\n",
    "    \\text{subject to: } y^{T}\\alpha=0,\\ \\alpha\\geq 0\n",
    "\\end{equation}\n",
    "\n",
    "The quadprog package by defaualt solves the QP as this form:\n",
    "\n",
    "\\begin{equation}\n",
    "    \\min_{x}\\big( \\frac{1}{2}x^{T}Px + q^{T}x \\big) \\\\\n",
    "    \\text{subject to: } Gx\\leq h,\\ Ax = b\n",
    "\\end{equation}\n",
    "\n",
    "Therefore, in order to use quadprog, we need to establish the responding relationships between variables: \n",
    "$P=Q$, $q = -(\\textbf{1})^{T}$, $G = -(\\textbf{1})^{T}$, $h=(\\textbf{0})^{T}$, $A=y^T$, $b=(\\textbf{0})^{T}$\n",
    "\n",
    "\n",
    "\n",
    "---\n",
    "## Task 1: Compute matrix $Q$\n",
    "\n",
    "**3 points**\n",
    "\n",
    "First, we need to use $x^{(i)}$ and $y^{(i)}$ to compute matrix $Q$:\n",
    "\n",
    "\\begin{equation}\n",
    "    Q = \\begin{bmatrix}\n",
    "    y^{(1)}y^{(1)}x^{(1)T}x^{(1)} & y^{(1)}y^{(2)}x^{(1)T}x^{(2)} & \\dots & y^{(1)}y^{(5)}x^{(1)T}x^{(5)} \\\\\n",
    "    y^{(2)}y^{(1)}x^{(2)T}x^{(1)} & y^{(2)}y^{(2)}x^{(2)T}x^{(2)} & \\dots & y^{(2)}y^{(5)}x^{(2)T}x^{(5)} \\\\\n",
    "    \\vdots & \\vdots & \\ddots & \\vdots \\\\\n",
    "    y^{(5)}y^{(1)}x^{(5)T}x^{(1)} & y^{(5)}y^{(2)}x^{(5)T}x^{(2)} & \\dots & y^{(5)}y^{(5)}x^{(5)T}x^{(5)} \\\\\n",
    "    \\end{bmatrix}\n",
    "\\end{equation}\n"
   ]
  },
  {
   "cell_type": "code",
   "execution_count": 13,
   "metadata": {
    "colab": {
     "base_uri": "https://localhost:8080/"
    },
    "id": "nLxPMhzU-_O2",
    "outputId": "6d4b5dc0-1285-44bf-bba4-1d2c661fc71e"
   },
   "outputs": [
    {
     "name": "stdout",
     "output_type": "stream",
     "text": [
      "Q =  [[ 0.  0.  0.  0.  0.]\n",
      " [ 0.  4.  0. -6. -8.]\n",
      " [ 0.  0.  4. -6. -8.]\n",
      " [ 0. -6. -6. 18. 24.]\n",
      " [ 0. -8. -8. 24. 32.]]\n"
     ]
    }
   ],
   "source": [
    "Q = np.zeros((5, 5))\n",
    "\n",
    "### START YOUR CODE ###\n",
    "for i in range(Q.shape[0]):\n",
    "    for j in range(Q.shape[1]):\n",
    "        # Use the ith and jth examples in X and Y to compute Q_ij\n",
    "        Q[i, j] = Y[i]*Y[j]*(X[i] @ X[j])\n",
    "### END YOUR CODE ###\n",
    "\n",
    "print('Q = ', Q)"
   ]
  },
  {
   "cell_type": "markdown",
   "metadata": {
    "id": "AMn2_jw--_O4"
   },
   "source": [
    "### Expected output\n",
    "&nbsp;|&nbsp;\n",
    "--|--\n",
    "**Q =**|[[ 0.  0.  0.  0.  0.] <br>[ 0.  4.  0. -6. -8.] <br> [ 0.  0.  4. -6. -8.] <br> [ 0. -6. -6. 18. 24.] <br> [ 0. -8. -8. 24. 32.]]\n",
    "\n",
    "---\n",
    "## Task 2: Computer other variables\n",
    "**3 points**\n",
    "\n",
    "Use the folumas: $P=Q$, $q = -(\\textbf{1})^{T}$, $G = -(\\textbf{1})^{T}$, $h=(\\textbf{0})^{T}$, $A=y^T$, $b=(\\textbf{0})^{T}$"
   ]
  },
  {
   "cell_type": "code",
   "execution_count": 19,
   "metadata": {
    "colab": {
     "base_uri": "https://localhost:8080/"
    },
    "id": "BsaZWUfe-_O8",
    "outputId": "7e32119d-dfe5-4d82-aeda-0485d613f5b8"
   },
   "outputs": [
    {
     "name": "stdout",
     "output_type": "stream",
     "text": [
      "q =  [-1. -1. -1. -1. -1.]\n",
      "G =  [[-1. -0. -0. -0. -0.]\n",
      " [-0. -1. -0. -0. -0.]\n",
      " [-0. -0. -1. -0. -0.]\n",
      " [-0. -0. -0. -1. -0.]\n",
      " [-0. -0. -0. -0. -1.]]\n",
      "h =  [0. 0. 0. 0. 0.]\n",
      "b =  [0.]\n"
     ]
    }
   ],
   "source": [
    "### START YOUR CODE ###\n",
    "P = Q + np.eye(5)*1e-5 # To solve the non-positive finite issue\n",
    "\n",
    "# Hint: Use np.ones(), q is of length 5\n",
    "q =  -1*np.ones(5)\n",
    "\n",
    "# Hint: G is a matrix whose diagnal elements are 1s, and other elements are 0s. Use np.eye()\n",
    "G = -1*np.eye(5)\n",
    "\n",
    "# Hint: h is of length 5, with all zeros; Use np.zeros()\n",
    "h = np.zeros(5)\n",
    "\n",
    "A = Y.reshape((1,5))\n",
    "\n",
    "# Hint: b is of length 1, with zero value; Use np.zeros()\n",
    "b = np.zeros(1)\n",
    "\n",
    "### END YOUR CODE ###\n",
    "\n",
    "print('q = ', q)\n",
    "print('G = ', G)\n",
    "print('h = ', h)\n",
    "print('b = ', b)"
   ]
  },
  {
   "cell_type": "markdown",
   "metadata": {
    "id": "tjExlfZP-_PB"
   },
   "source": [
    "### Expected output\n",
    "&nbsp;|&nbsp;\n",
    "--|--\n",
    "**q =**|  [-1. -1. -1. -1. -1.]\n",
    "**G =**|[[-1. -0. -0. -0. -0.]<br> [-0. -1. -0. -0. -0.]<br> [-0. -0. -1. -0. -0.]<br> [-0. -0. -0. -1. -0.]<br> [-0. -0. -0. -0. -1.]]\n",
    "**h =**|  [0. 0. 0. 0. 0.]\n",
    "**b =**|  [0.]\n",
    "\n",
    "---\n",
    "\n",
    "## Task 3: Call quadprog\n",
    "**1 point**"
   ]
  },
  {
   "cell_type": "code",
   "execution_count": 20,
   "metadata": {
    "colab": {
     "base_uri": "https://localhost:8080/"
    },
    "id": "rBOOCzK0-_PD",
    "outputId": "e7b8591e-60bc-4eed-ffb3-c822bcfa9aba"
   },
   "outputs": [
    {
     "name": "stdout",
     "output_type": "stream",
     "text": [
      "solution =  [0.         0.12499977 0.12499977 0.24999953 0.        ]\n",
      "The support vectors are:  [[2 0]\n",
      " [0 2]\n",
      " [3 3]]\n"
     ]
    }
   ],
   "source": [
    "### START YOUR CODE ###\n",
    "\n",
    "# Hint: Call quadprog_solve_qp() with the correct arguments\n",
    "solution = quadprog_solve_qp(P,q,G,h,A,b)\n",
    "\n",
    "### END YOUR CODE ###\n",
    "\n",
    "print('solution = ', solution)\n",
    "print('The support vectors are: ', X[solution > 0, ])"
   ]
  },
  {
   "cell_type": "markdown",
   "metadata": {
    "id": "h2WqT-IR-_PF"
   },
   "source": [
    "### Expected output\n",
    "&nbsp;|&nbsp;\n",
    "--|--\n",
    "**solution $\\approx$**|[0. 0.125 0.125 0.25 0]\n",
    "**The support vectors are:** | [[2 0]<br> [0 2]<br> [3 3]]<br>\n",
    "\n",
    "---\n",
    "## Task 4: Solve the decision boundary\n",
    "**3 points**\n",
    "\n",
    "Use the support vectors to solve the $w$ and $b$ in the decision boundary $w^Tx+b=0$. Use the property that a support vector $x^{(k)}$ must satistify $y^{(k)}(w^Tx^{(k)}+b) = 1$. You can solve it with a paper and pen by listing linear equations."
   ]
  },
  {
   "cell_type": "code",
   "execution_count": 37,
   "metadata": {
    "colab": {
     "base_uri": "https://localhost:8080/"
    },
    "id": "hGNMNGEE-_PH",
    "outputId": "400ca3c0-6ae3-4007-ccca-1bdc2aa0212e"
   },
   "outputs": [
    {
     "name": "stdout",
     "output_type": "stream",
     "text": [
      "w =  [-1, -1]\n",
      "w1 =  -1\n",
      "w2 =  -1\n",
      "b =  10\n"
     ]
    }
   ],
   "source": [
    "### START YOUR ANSWERS ###\n",
    "# if we solve using pen and paper we will get 3 equations\n",
    "# Equation 1 -> 0.125*(2*w1+0*w2+b)=1 \n",
    "# Equation 2 -> 0.125*(0*w1+2*w2+b)=1 \n",
    "# Equation 3 -> 0.25*(3*w1+3*w2+b)=1 \n",
    "# Now 3 unknowns and We have 3 equations, so we will solve and get those values\n",
    "# Written under it.\n",
    "w1 = -1\n",
    "w2 = -1\n",
    "b = 10\n",
    "w=[w1,w2]\n",
    "### END YOUR ANSWERS\n",
    "print(\"w = \",w)\n",
    "print('w1 = ', w1)\n",
    "print('w2 = ', w2)\n",
    "print('b = ', b)"
   ]
  },
  {
   "cell_type": "code",
   "execution_count": null,
   "metadata": {
    "id": "llrY_2kc0P4f"
   },
   "outputs": [],
   "source": []
  }
 ],
 "metadata": {
  "colab": {
   "name": "a3_svm.ipynb",
   "provenance": []
  },
  "kernelspec": {
   "display_name": "Python 3 (ipykernel)",
   "language": "python",
   "name": "python3"
  },
  "language_info": {
   "codemirror_mode": {
    "name": "ipython",
    "version": 3
   },
   "file_extension": ".py",
   "mimetype": "text/x-python",
   "name": "python",
   "nbconvert_exporter": "python",
   "pygments_lexer": "ipython3",
   "version": "3.9.6"
  }
 },
 "nbformat": 4,
 "nbformat_minor": 1
}
